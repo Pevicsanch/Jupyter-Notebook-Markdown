{
 "cells": [
  {
   "cell_type": "markdown",
   "id": "deb2c324-5db0-4f73-845d-b3bcb9f41348",
   "metadata": {},
   "source": [
    "# S01 T01: Jupyter Notebook & Markdown"
   ]
  },
  {
   "cell_type": "markdown",
   "id": "d05bc5e4-e42a-4081-883d-1c6f72df7a19",
   "metadata": {},
   "source": [
    "* **Use Markdown Language**:\n"
   ]
  },
  {
   "cell_type": "markdown",
   "id": "d23a35fd-ba40-4170-b28d-1d00238cba66",
   "metadata": {},
   "source": [
    "## this is a Heading 2"
   ]
  },
  {
   "cell_type": "markdown",
   "id": "af42feff-b3a9-4843-8b6e-d6595c507133",
   "metadata": {},
   "source": [
    "### this is a Heading 3\n"
   ]
  },
  {
   "cell_type": "markdown",
   "id": "161ce014-b573-4e70-af85-38994179a9eb",
   "metadata": {},
   "source": [
    "#### this is a Heading 4 with *italic font style*"
   ]
  },
  {
   "cell_type": "markdown",
   "id": "73e3fe87-b1e6-421b-bf70-9aa6b6309f5f",
   "metadata": {},
   "source": [
    "### this is a Heading 3 with **bold font style**\n"
   ]
  },
  {
   "cell_type": "markdown",
   "id": "113b930d-db42-43a9-894a-a3011ebf5160",
   "metadata": {},
   "source": [
    "+ **create a list**:"
   ]
  },
  {
   "cell_type": "markdown",
   "id": "04e1144f-57bb-4030-9378-680d502aaf8c",
   "metadata": {},
   "source": [
    "* item1\n",
    "* item 2\n",
    "** item 2.1\n",
    "** item 2.2\n",
    "* item 3\n"
   ]
  },
  {
   "cell_type": "markdown",
   "id": "982fa28b-0fad-473f-bd90-a2e013e65f94",
   "metadata": {},
   "source": [
    "+ **add some image**:"
   ]
  },
  {
   "cell_type": "markdown",
   "id": "913467c3-e468-4087-9c1a-4123c1ae68cc",
   "metadata": {},
   "source": [
    "\n",
    "<div> <img src=\"https://dev-to-uploads.s3.amazonaws.com/i/5zhubbpov3m3ly9a1t9c.png\" alt=\"Drawing\" style=\"width: 400px;\"/></div> "
   ]
  },
  {
   "cell_type": "markdown",
   "id": "0f4706f9-4221-429b-813a-b9dd11a0dab2",
   "metadata": {},
   "source": [
    "+ **trying some simple calculations**:"
   ]
  },
  {
   "cell_type": "markdown",
   "id": "0264ce7f-835f-457f-852f-303a5cf98953",
   "metadata": {},
   "source": [
    "1. Addition:"
   ]
  },
  {
   "cell_type": "code",
   "execution_count": 1,
   "id": "479594be-3314-4993-9401-226c9a5fa925",
   "metadata": {},
   "outputs": [
    {
     "data": {
      "text/plain": [
       "2"
      ]
     },
     "execution_count": 1,
     "metadata": {},
     "output_type": "execute_result"
    }
   ],
   "source": [
    "1 + 1"
   ]
  },
  {
   "cell_type": "code",
   "execution_count": 2,
   "id": "5baecc2e-7462-4b43-b5b9-624010f50c33",
   "metadata": {},
   "outputs": [
    {
     "data": {
      "text/plain": [
       "3"
      ]
     },
     "execution_count": 2,
     "metadata": {},
     "output_type": "execute_result"
    }
   ],
   "source": [
    "a = 1\n",
    "b = 2\n",
    "a + b"
   ]
  },
  {
   "cell_type": "markdown",
   "id": "22bab54e-af9a-47f9-bba4-66674ff8d985",
   "metadata": {},
   "source": [
    "2. Subtraction:"
   ]
  },
  {
   "cell_type": "code",
   "execution_count": 3,
   "id": "9c8d2d03-1725-4d8f-9fd3-a91cf95a07ff",
   "metadata": {},
   "outputs": [
    {
     "data": {
      "text/plain": [
       "1"
      ]
     },
     "execution_count": 3,
     "metadata": {},
     "output_type": "execute_result"
    }
   ],
   "source": [
    "2 - 1"
   ]
  },
  {
   "cell_type": "code",
   "execution_count": 21,
   "id": "82ec65d9-6b4e-4814-ba12-1af8851afc3f",
   "metadata": {},
   "outputs": [
    {
     "name": "stdout",
     "output_type": "stream",
     "text": [
      "1\n"
     ]
    }
   ],
   "source": [
    "c = 2\n",
    "d = 1\n",
    "print(c - d)\n"
   ]
  },
  {
   "cell_type": "markdown",
   "id": "b422a08d-6de5-492c-ae5c-d2a0492e51e3",
   "metadata": {},
   "source": [
    "3. Multiplication:"
   ]
  },
  {
   "cell_type": "code",
   "execution_count": 5,
   "id": "7d91df67-15a3-4fd5-b784-6cc9d70bd50e",
   "metadata": {},
   "outputs": [
    {
     "data": {
      "text/plain": [
       "9"
      ]
     },
     "execution_count": 5,
     "metadata": {},
     "output_type": "execute_result"
    }
   ],
   "source": [
    "3 * 3"
   ]
  },
  {
   "cell_type": "code",
   "execution_count": 18,
   "id": "c395053b-7333-4e27-a301-a902e402d64e",
   "metadata": {},
   "outputs": [
    {
     "name": "stdout",
     "output_type": "stream",
     "text": [
      "9\n"
     ]
    }
   ],
   "source": [
    "e = 3\n",
    "f = 3\n",
    "print(e * f)\n"
   ]
  },
  {
   "cell_type": "markdown",
   "id": "a9303273",
   "metadata": {},
   "source": [
    "4. Division:"
   ]
  },
  {
   "cell_type": "code",
   "execution_count": 15,
   "id": "d4c93ea1",
   "metadata": {},
   "outputs": [
    {
     "data": {
      "text/plain": [
       "1.0"
      ]
     },
     "execution_count": 15,
     "metadata": {},
     "output_type": "execute_result"
    }
   ],
   "source": [
    "3 / 3"
   ]
  },
  {
   "cell_type": "code",
   "execution_count": 19,
   "id": "0de2be3d",
   "metadata": {},
   "outputs": [
    {
     "name": "stdout",
     "output_type": "stream",
     "text": [
      "1.0\n"
     ]
    }
   ],
   "source": [
    "print(e / f)"
   ]
  },
  {
   "cell_type": "markdown",
   "id": "a650529e",
   "metadata": {},
   "source": [
    "5. Modulus:"
   ]
  },
  {
   "cell_type": "code",
   "execution_count": 20,
   "id": "69209d3e",
   "metadata": {},
   "outputs": [
    {
     "data": {
      "text/plain": [
       "0"
      ]
     },
     "execution_count": 20,
     "metadata": {},
     "output_type": "execute_result"
    }
   ],
   "source": [
    "3 % 1"
   ]
  },
  {
   "cell_type": "code",
   "execution_count": 22,
   "id": "64990330",
   "metadata": {},
   "outputs": [
    {
     "name": "stdout",
     "output_type": "stream",
     "text": [
      "1\n"
     ]
    }
   ],
   "source": [
    "print(e & d)"
   ]
  },
  {
   "cell_type": "markdown",
   "id": "2626050b",
   "metadata": {},
   "source": [
    "6. Exponentiation Operator:"
   ]
  },
  {
   "cell_type": "code",
   "execution_count": 23,
   "id": "837ca986",
   "metadata": {},
   "outputs": [
    {
     "data": {
      "text/plain": [
       "9"
      ]
     },
     "execution_count": 23,
     "metadata": {},
     "output_type": "execute_result"
    }
   ],
   "source": [
    "3 ** 2"
   ]
  },
  {
   "cell_type": "code",
   "execution_count": 24,
   "id": "897289b8",
   "metadata": {},
   "outputs": [
    {
     "name": "stdout",
     "output_type": "stream",
     "text": [
      "9\n"
     ]
    }
   ],
   "source": [
    "print(e ** c)"
   ]
  },
  {
   "cell_type": "markdown",
   "id": "1e901585",
   "metadata": {},
   "source": [
    "7. Floor division :"
   ]
  },
  {
   "cell_type": "code",
   "execution_count": 25,
   "id": "b0e7ba8f",
   "metadata": {},
   "outputs": [
    {
     "data": {
      "text/plain": [
       "1"
      ]
     },
     "execution_count": 25,
     "metadata": {},
     "output_type": "execute_result"
    }
   ],
   "source": [
    "3 // 2"
   ]
  },
  {
   "cell_type": "code",
   "execution_count": 26,
   "id": "975984e2",
   "metadata": {},
   "outputs": [
    {
     "name": "stdout",
     "output_type": "stream",
     "text": [
      "1\n"
     ]
    }
   ],
   "source": [
    "print(e // c)"
   ]
  },
  {
   "cell_type": "markdown",
   "id": "3857e429-32f2-45cb-ae6d-dfa92e6f3ff4",
   "metadata": {},
   "source": [
    "+ **Install Nbextensions**"
   ]
  },
  {
   "cell_type": "markdown",
   "id": "a7e2328b",
   "metadata": {},
   "source": [
    "STEP 1: Open cmd prompt and run the following commands\n",
    " 1) pip install jupyter_contrib_nbextensions\n",
    " 2) pip install jupyter_nbextensions_configurator\n",
    " 3) jupyter contrib nbextension install --user \n",
    " 4) jupyter nbextensions_configurator enable --user\n",
    "\n",
    "STEP 3: Open jupyter notebook\n",
    " - click on nbextensions tab\n",
    " - unckeck disable configuration for nbextensions without explicit compatibility\n",
    " - put a check on Hinterland\n",
    "step 3: Open new python file and check autocomplete feature"
   ]
  },
  {
   "cell_type": "code",
   "execution_count": null,
   "id": "d4baa4c1",
   "metadata": {},
   "outputs": [],
   "source": []
  }
 ],
 "metadata": {
  "kernelspec": {
   "display_name": "Python 3",
   "language": "python",
   "name": "python3"
  },
  "language_info": {
   "codemirror_mode": {
    "name": "ipython",
    "version": 3
   },
   "file_extension": ".py",
   "mimetype": "text/x-python",
   "name": "python",
   "nbconvert_exporter": "python",
   "pygments_lexer": "ipython3",
   "version": "3.8.8"
  }
 },
 "nbformat": 4,
 "nbformat_minor": 5
}
